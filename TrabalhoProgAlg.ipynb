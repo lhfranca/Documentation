{
  "nbformat": 4,
  "nbformat_minor": 0,
  "metadata": {
    "kernelspec": {
      "display_name": "Python 3",
      "language": "python",
      "name": "python3"
    },
    "language_info": {
      "codemirror_mode": {
        "name": "ipython",
        "version": 3
      },
      "file_extension": ".py",
      "mimetype": "text/x-python",
      "name": "python",
      "nbconvert_exporter": "python",
      "pygments_lexer": "ipython3",
      "version": "3.8.3"
    },
    "colab": {
      "name": "TrabalhoProgAlg.ipynb",
      "provenance": [],
      "include_colab_link": true
    }
  },
  "cells": [
    {
      "cell_type": "markdown",
      "metadata": {
        "id": "view-in-github",
        "colab_type": "text"
      },
      "source": [
        "<a href=\"https://colab.research.google.com/github/lhfranca/Documentation/blob/main/TrabalhoProgAlg.ipynb\" target=\"_parent\"><img src=\"https://colab.research.google.com/assets/colab-badge.svg\" alt=\"Open In Colab\"/></a>"
      ]
    },
    {
      "cell_type": "markdown",
      "metadata": {
        "id": "CXbx7BVlZazx"
      },
      "source": [
        "# Programação e Algoritmos - leitura de um QR code"
      ]
    },
    {
      "cell_type": "markdown",
      "metadata": {
        "id": "5yM_fmvvZaz8"
      },
      "source": [
        "<div class=\"alert alert-success\">\n",
        "<h2>Instruções</h2>\n",
        "\n",
        "<ul>\n",
        "    <li>O trabalho pode ser feito individualmente ou em duplas.\n",
        "    <li>A avaliação será durante a aula de <strong>22/10/2020</strong>.\n",
        "    <li>Aqueles que quiserem agendar outro dia e horário para a avaliação do trabalho, devem fazê-lo através do e-mail <a href=\"mailto:rfcantao@ufscar.br\">rfcantao@ufscar.br</a>\n",
        "    <li>Cada trabalho será apresentado por seu(s) autor(es) via compartilhamento de tela na plataforma Google Meet, em um tempo máximo de 10 minutos.\n",
        "    <li>A documentação do projeto deverá ser feita no próprio notebook Jupyter.\n",
        "</ul>\n",
        "</div>"
      ]
    },
    {
      "cell_type": "markdown",
      "metadata": {
        "id": "7BMyEyekZa0F"
      },
      "source": [
        "## Entrega\n",
        "\n",
        "Será criada uma função que, dado um QR Code no formato especificado abaixo, ela faz a decodificação e retorna o conteúdo do QR Code em uma string.\n",
        "\n",
        "### Requisitos\n",
        "\n",
        "- A função deverá se chamar `decodifica_qr_code`.\n",
        "- Seu único argumento de entrada deve ser a matriz representando o QR Code (mais sobre o padrão usado na sequência).\n",
        "- Seu único argumento de saída deve ser a mensagem embutida no QR Code."
      ]
    },
    {
      "cell_type": "markdown",
      "metadata": {
        "id": "R4GHMnXyZa0p"
      },
      "source": [
        "## Pacotes\n",
        "\n",
        "Carregue os pacotes a seguir para poder rodar as funções fornecidas neste notebook."
      ]
    },
    {
      "cell_type": "code",
      "metadata": {
        "id": "snpA-wuQZa0y"
      },
      "source": [
        "import numpy as np\n",
        "import matplotlib.pyplot as plt\n",
        "import string\n",
        "%matplotlib notebook"
      ],
      "execution_count": 1,
      "outputs": []
    },
    {
      "cell_type": "markdown",
      "metadata": {
        "id": "ZTalibCYZa1_"
      },
      "source": [
        "## O QR Code usado neste trabalho\n",
        "\n",
        "O QR Code (abreviação de _Quick Response Code_, ou \"código de resposta rápida\") é uma forma de código de barras bidimensional. Existem atualmente mais de 5 padrões de QR Code no mundo, mas devido à complexidade de construção e implementação destes padrões, vamos usar um criado especialmente para este trabalho!"
      ]
    },
    {
      "cell_type": "markdown",
      "metadata": {
        "id": "KsdvNAYfZa2H"
      },
      "source": [
        "Para criar a padronagem para o QR Code usaremos uma matriz de zeros e uns. Esta matriz pode tanto ser uma lista de listas simples (veja a aula `4_loops.ipynb`) ou uma matriz NumPy (aula `9_NumPy.ipynb`, em breve).\n",
        "\n",
        "Veja o exemplo a seguir, que representa um quadrado com um ponto no meio, típico de QR Codes:"
      ]
    },
    {
      "cell_type": "code",
      "metadata": {
        "id": "4sROBrx4Za2o"
      },
      "source": [
        "# bit 1 = cor preta\n",
        "# bit 0 = cor branca\n",
        "\n",
        "qr_mini = [[1, 1, 1, 1, 1],\n",
        "           [1, 0, 0, 0, 1],\n",
        "           [1, 0, 1, 0, 1],\n",
        "           [1, 0, 0, 0, 1],\n",
        "           [1, 1, 1, 1, 1]]"
      ],
      "execution_count": 2,
      "outputs": []
    },
    {
      "cell_type": "markdown",
      "metadata": {
        "id": "Uf3zIjepZa3V"
      },
      "source": [
        "### Visualização do QR Code\n",
        "\n",
        "Para visualizar o QR Code use a função `mostra_qr_code()` abaixo. Veja o exemplo que mostra o QR Code definido acima. __Não se preocupe em entender esta função!__ Ela está aqui apenas para auxiliar seu desenvolvimento do projeto."
      ]
    },
    {
      "cell_type": "code",
      "metadata": {
        "id": "wSAzX6r_Za3c"
      },
      "source": [
        "# Não se preocupe em entender esta função! Ela está aqui\n",
        "# pela utilidade!\n",
        "\n",
        "def mostra_qr_code(qr, ax=None):\n",
        "    if ax is None:\n",
        "        fig, ax = plt.subplots(figsize=(3, 3))\n",
        "        \n",
        "    ax.imshow(qr, cmap='binary', vmin=0, vmax=1)\n",
        "    ax.set_xticks([])\n",
        "    ax.set_yticks([])\n",
        "    fig.tight_layout()"
      ],
      "execution_count": 3,
      "outputs": []
    },
    {
      "cell_type": "code",
      "metadata": {
        "id": "T4fjBlScZa4S",
        "outputId": "a3f30edc-4e8d-4ca1-9948-35c4395fa4f2",
        "colab": {
          "base_uri": "https://localhost:8080/",
          "height": 224
        }
      },
      "source": [
        "# Exibe o QR Code de exemplo\n",
        "mostra_qr_code(qr_mini)"
      ],
      "execution_count": 4,
      "outputs": [
        {
          "output_type": "display_data",
          "data": {
            "image/png": "[encoded data removed]",
            "text/plain": [
              "<Figure size 216x216 with 1 Axes>"
            ]
          },
          "metadata": {
            "tags": []
          }
        }
      ]
    },
    {
      "cell_type": "markdown",
      "metadata": {
        "id": "Ty5K5iQXZa5U"
      },
      "source": [
        "## Codificação dos caracteres\n",
        "\n",
        "O dicionário abaixo (aula `7_dicionários.ipynb`) associa cada caractere disponível - letras, dígitos e alguns caracteres de pontuação e especiais - com sua representação no código QR. Cada caractere corresponde a uma matriz $3\\times 2$ (veja a Figura na sequência).\n",
        "\n",
        "> __Importante!__ Não use acentos!"
      ]
    },
    {
      "cell_type": "code",
      "metadata": {
        "id": "tU_r3NVmZa5f"
      },
      "source": [
        "c2m = {'a': [[0, 0], [0, 0], [0, 0]], 'b': [[0, 0], [0, 0], [0, 1]], 'c': [[0, 0], [0, 0], [1, 0]],\n",
        "       'd': [[0, 0], [0, 0], [1, 1]], 'e': [[0, 0], [0, 1], [0, 0]], 'f': [[0, 0], [0, 1], [0, 1]],\n",
        "       'g': [[0, 0], [0, 1], [1, 0]], 'h': [[0, 0], [0, 1], [1, 1]], 'i': [[0, 0], [1, 0], [0, 0]],\n",
        "       'j': [[0, 0], [1, 0], [0, 1]], 'k': [[0, 0], [1, 0], [1, 0]], 'l': [[0, 0], [1, 0], [1, 1]],\n",
        "       'm': [[0, 0], [1, 1], [0, 0]], 'n': [[0, 0], [1, 1], [0, 1]], 'o': [[0, 0], [1, 1], [1, 0]],\n",
        "       'p': [[0, 0], [1, 1], [1, 1]], 'q': [[0, 1], [0, 0], [0, 0]], 'r': [[0, 1], [0, 0], [0, 1]],\n",
        "       's': [[0, 1], [0, 0], [1, 0]], 't': [[0, 1], [0, 0], [1, 1]], 'u': [[0, 1], [0, 1], [0, 0]],\n",
        "       'v': [[0, 1], [0, 1], [0, 1]], 'w': [[0, 1], [0, 1], [1, 0]], 'x': [[0, 1], [0, 1], [1, 1]],\n",
        "       'y': [[0, 1], [1, 0], [0, 0]], 'z': [[0, 1], [1, 0], [0, 1]], '0': [[0, 1], [1, 0], [1, 0]],\n",
        "       '1': [[0, 1], [1, 0], [1, 1]], '2': [[0, 1], [1, 1], [0, 0]], '3': [[0, 1], [1, 1], [0, 1]],\n",
        "       '4': [[0, 1], [1, 1], [1, 0]], '5': [[0, 1], [1, 1], [1, 1]], '6': [[1, 0], [0, 0], [0, 0]],\n",
        "       '7': [[1, 0], [0, 0], [0, 1]], '8': [[1, 0], [0, 0], [1, 0]], '9': [[1, 0], [0, 0], [1, 1]],\n",
        "       ' ': [[1, 0], [0, 1], [0, 0]], '@': [[1, 0], [0, 1], [0, 1]], '/': [[1, 0], [0, 1], [1, 0]],\n",
        "       ':': [[1, 1], [0, 0], [1, 1]], '+': [[1, 0], [1, 0], [0, 0]], '-': [[1, 0], [1, 0], [0, 1]],\n",
        "       '*': [[1, 0], [1, 0], [1, 0]], '.': [[1, 0], [1, 0], [1, 1]], '%': [[1, 0], [1, 1], [0, 0]],\n",
        "       '&': [[1, 0], [1, 1], [0, 1]], '#': [[1, 0], [1, 1], [1, 0]], '!': [[1, 0], [1, 1], [1, 1]],\n",
        "       '?': [[1, 1], [0, 0], [0, 0]], ',': [[1, 1], [0, 0], [0, 1]], ';': [[1, 1], [0, 0], [1, 0]],\n",
        "       '=': [[1, 1], [0, 1], [0, 0]], '[': [[1, 1], [0, 1], [0, 1]], ']': [[1, 1], [0, 1], [1, 0]],\n",
        "       '{': [[1, 1], [0, 1], [1, 1]], '}': [[1, 1], [1, 0], [0, 0]], '(': [[1, 1], [1, 0], [0, 1]],\n",
        "       ')': [[1, 1], [1, 0], [1, 0]], '$': [[1, 1], [1, 0], [1, 1]], '\\\\': [[1, 1], [1, 1], [0, 0]],\n",
        "       '|': [[1, 1], [1, 1], [0, 1]], '<': [[1, 1], [1, 1], [1, 0]], '>': [[1, 1], [1, 1], [1, 1]]}"
      ],
      "execution_count": 5,
      "outputs": []
    },
    {
      "cell_type": "markdown",
      "metadata": {
        "id": "B0Vgbgo1Za6p"
      },
      "source": [
        "![Mapa de caracteres](mapa.png)"
      ]
    },
    {
      "cell_type": "markdown",
      "metadata": {
        "id": "TqFaQuezZa64"
      },
      "source": [
        "Para exemplificar, vamos ver como é representada a letra \"n\":"
      ]
    },
    {
      "cell_type": "code",
      "metadata": {
        "id": "ax-7hCG2Za7U",
        "outputId": "651074f1-63a7-45c7-9b98-63af97e0dcb7",
        "colab": {
          "base_uri": "https://localhost:8080/",
          "height": 33
        }
      },
      "source": [
        "# Use o nome do dicionário e o caracter desejado entre aspas\n",
        "c2m['n']"
      ],
      "execution_count": 6,
      "outputs": [
        {
          "output_type": "execute_result",
          "data": {
            "text/plain": [
              "[[0, 0], [1, 1], [0, 1]]"
            ]
          },
          "metadata": {
            "tags": []
          },
          "execution_count": 6
        }
      ]
    },
    {
      "cell_type": "markdown",
      "metadata": {
        "id": "Wd4suvo1Za8y"
      },
      "source": [
        "Para exemplificar melhor, a letra \"n\" é representada pela matriz\n",
        "$$\n",
        "A = \\begin{bmatrix} 0 & 0 \\\\ 1 & 1 \\\\ 0 & 1 \\end{bmatrix},\n",
        "$$\n",
        "ou, se preferir visualizar somente a letra \"n\", use a função `mostra_qr_code()`:"
      ]
    },
    {
      "cell_type": "code",
      "metadata": {
        "id": "zVxnMZi6Za89",
        "outputId": "f02a7129-068b-4f83-be65-b1a2dc7715b3",
        "colab": {
          "base_uri": "https://localhost:8080/",
          "height": 224
        }
      },
      "source": [
        "mostra_qr_code(c2m['n'])"
      ],
      "execution_count": 7,
      "outputs": [
        {
          "output_type": "display_data",
          "data": {
            "image/png": "[encoded data removed]",
            "text/plain": [
              "<Figure size 216x216 with 1 Axes>"
            ]
          },
          "metadata": {
            "tags": []
          }
        }
      ]
    },
    {
      "cell_type": "markdown",
      "metadata": {
        "id": "LNR60HJ3Za9m"
      },
      "source": [
        "## A mensagem secreta\n",
        "\n",
        "O QR Code abaixo contém uma mensagem secreta. Na verdade é parte de uma série de livros bastante conhecida. Seu trabalho será escrever um programa que decifre esse QR Code!"
      ]
    },
    {
      "cell_type": "code",
      "metadata": {
        "id": "XMaEJ4GIZa9t"
      },
      "source": [
        "qr = np.array([[1,1,1,1,1,1,0,0,0,1,1,0,0,0,0,0,0,0,1,0,0,1,0,0,0,0,0,0,0,1],\n",
        "               [1,0,0,0,0,1,0,1,0,1,0,1,1,1,0,0,1,1,0,1,0,0,0,1,1,1,0,1,0,0],\n",
        "               [1,0,1,1,0,1,0,0,0,0,0,0,0,1,0,0,1,0,0,0,1,1,0,0,0,0,0,0,0,1],\n",
        "               [1,0,1,1,0,1,0,0,0,0,1,0,1,0,0,0,0,1,1,0,0,0,0,0,0,0,0,1,0,0],\n",
        "               [1,0,0,0,0,1,0,1,1,0,1,0,0,1,0,1,0,1,0,1,0,1,1,1,0,1,0,0,0,1],\n",
        "               [1,1,1,1,1,1,0,0,0,0,1,1,0,0,0,0,0,0,0,0,0,0,0,1,0,1,0,1,0,0],\n",
        "               [0,0,0,1,0,0,0,1,0,0,0,0,1,0,0,0,0,0,0,1,1,0,0,0,0,0,0,0,0,0],\n",
        "               [1,1,0,0,0,0,0,0,0,1,1,0,0,1,1,1,0,1,0,1,0,1,1,1,0,1,0,0,1,1],\n",
        "               [0,1,1,1,0,0,0,1,0,0,0,0,0,0,0,0,0,0,0,0,0,0,0,0,0,0,1,1,1,0],\n",
        "               [1,0,1,0,0,0,0,0,0,1,0,0,0,0,0,1,0,0,0,1,0,0,0,0,1,0,0,1,0,1],\n",
        "               [1,0,0,1,1,1,0,1,0,0,1,1,1,0,0,0,1,0,0,0,0,1,1,0,0,1,0,0,0,1],\n",
        "               [1,1,0,0,1,1,0,0,0,1,0,0,0,0,1,1,0,0,0,1,0,0,0,0,0,0,0,0,0,0],\n",
        "               [0,0,1,0,0,0,0,0,0,0,1,0,0,0,0,0,0,1,0,1,0,0,1,0,0,0,0,1,0,1],\n",
        "               [0,1,0,1,0,1,1,0,0,1,0,1,1,1,0,0,0,0,0,0,0,1,0,1,0,0,0,0,0,0],\n",
        "               [0,0,0,0,0,0,1,1,0,0,0,0,1,1,0,0,1,0,1,0,0,0,0,0,0,0,1,1,0,1],\n",
        "               [0,0,0,1,0,0,0,1,1,0,0,0,0,0,1,0,0,0,0,0,0,0,1,0,1,0,0,0,0,0],\n",
        "               [0,0,0,1,0,1,0,0,0,1,0,0,0,1,0,1,1,1,1,0,1,1,1,0,0,1,1,1,1,1],\n",
        "               [0,0,0,1,0,0,1,0,0,0,1,1,0,0,0,0,0,0,0,0,0,0,1,1,0,0,1,1,1,0],\n",
        "               [0,1,1,0,0,0,0,0,0,0,0,0,1,0,0,0,1,0,0,0,0,0,0,0,0,0,1,0,0,0],\n",
        "               [0,0,0,1,1,1,1,1,0,0,0,1,0,1,1,1,0,1,1,1,0,1,0,0,1,1,0,1,1,1],\n",
        "               [0,1,0,0,1,0,0,1,1,1,0,0,0,0,1,0,0,0,0,0,0,0,1,1,1,0,0,0,1,1],\n",
        "               [0,0,0,1,0,1,0,0,0,1,1,1,1,0,0,0,0,0,0,0,1,0,0,0,0,0,0,1,0,0],\n",
        "               [0,0,0,0,0,0,1,1,0,1,0,0,0,1,1,1,0,0,1,1,0,1,0,1,0,0,0,1,0,1],\n",
        "               [0,0,1,0,1,0,1,0,0,0,0,1,0,0,0,1,0,0,1,0,0,0,1,1,0,0,0,1,0,0],\n",
        "               [0,1,0,0,1,0,0,0,0,0,0,0,0,1,1,0,0,0,0,0,0,0,0,0,1,0,1,0,0,1],\n",
        "               [0,0,0,0,0,1,1,1,0,0,1,0,0,0,0,1,1,1,0,0,0,0,0,0,1,0,0,1,0,0],\n",
        "               [0,1,0,0,0,0,0,0,0,0,0,0,1,0,0,0,0,1,0,0,1,1,0,0,1,1,0,0,1,0],\n",
        "               [0,0,1,0,0,0,0,1,1,0,0,1,0,0,0,1,0,1,0,0,0,1,0,0,0,0,1,0,0,0],\n",
        "               [1,1,0,1,0,1,0,1,0,1,0,0,0,1,0,0,0,0,0,0,0,0,0,1,1,0,1,0,0,0],\n",
        "               [1,0,0,0,0,0,0,0,0,0,0,1,0,0,1,0,1,1,0,0,0,1,0,0,0,0,1,1,0,0]])"
      ],
      "execution_count": 8,
      "outputs": []
    },
    {
      "cell_type": "code",
      "metadata": {
        "id": "JX2rYp0qZa-k",
        "outputId": "2f3120b0-696c-4378-e2b7-1cf878a8b3ee",
        "colab": {
          "base_uri": "https://localhost:8080/",
          "height": 224
        }
      },
      "source": [
        "mostra_qr_code(qr)"
      ],
      "execution_count": 9,
      "outputs": [
        {
          "output_type": "display_data",
          "data": {
            "image/png": "[encoded data removed]",
            "text/plain": [
              "<Figure size 216x216 with 1 Axes>"
            ]
          },
          "metadata": {
            "tags": []
          }
        }
      ]
    },
    {
      "cell_type": "markdown",
      "metadata": {
        "id": "-f2GiwgWZa_S"
      },
      "source": [
        "## Informações importantes!\n",
        "\n",
        "- A matriz que representa a mensagem acima tem dimensão $30\\times 30$.\n",
        "- O marcador de QR Code no canto superior esquerdo ocupa $6\\times 6$ desta matriz e não representa informação alguma (pode ser desconsiderado).\n",
        "- De acordo com o dicionário de codificação dos caracteres, cada um deles ocupa $3\\times 2$ de espaço no QR Code."
      ]
    },
    {
      "cell_type": "markdown",
      "metadata": {
        "id": "DmtdbOVsEf_H"
      },
      "source": [
        "# **Vamos lá!** \n",
        "Primeiramente precisamos pensar no que precisamos, para assim buscar a solução.\n",
        "\n",
        "> \n",
        "\n",
        "\n",
        "\n",
        "  Objetivo:\n",
        "    Obviamente decodificar a mensagem.\n",
        "\n",
        "> \n",
        "\n",
        "\n",
        "Como?\n",
        "         Separando a matriz em elementos que possam ser comparados com o dicionário.\n",
        "        Para isso, criamos um \"molde\" que percorre toda a matriz e retorna em pares ordenados, o qual chamamos de \"par_ordenado_i\", sendo i de 1 a 3.\n",
        "        Após pegar 3 pares ordenados, agrupamos ele de uma maneira que ficasse igual ao valor do dicionário.\n",
        "        Com essa atribuição da \"matriz_3x2\", nome dado ao agrupamento dos pares ordenados, foi possível percorrer o dicionário e retornar a chave dado o valor contido na \"matriz_3x2\". Para isso, utilizamos o método .items() que retorna uma lista com chave:valor, e com base no valor conseguimos ir somando o resultado de sua chave e imprimir em apenas uma linha.\n"
      ]
    },
    {
      "cell_type": "code",
      "metadata": {
        "id": "cf87Vr7eFWtc"
      },
      "source": [
        "def decodifica_qr_code(y):\n",
        "\n",
        "    mensagem = \"\"\n",
        "    for l in range(0,30, 3): #da primeira linha até a última, com incrementos de 3.\n",
        "      for c in range(0,30, 2): #da primeira coluna até a última, com incrementos de 2.\n",
        "        if l < 6 and c < 6: #ignorando a matrix 6x6\n",
        "          ignorar = \"ignorar\"\n",
        "        else:                                     #\n",
        "          par_ordenado_1 = [ qr[l][c], qr[l][c+1]]\n",
        "          par_ordenado_2 = [ qr[l+1][c], qr[l+1][c+1]]\n",
        "          par_ordenado_3 = [ qr[l+2][c], qr[l+2][c+1]]  \n",
        "          matriz_3x2 = [ par_ordenado_1, par_ordenado_2, par_ordenado_3]\n",
        "\n",
        "\n",
        "          for chave, valor in c2m.items():\n",
        "            if matriz_3x2 == valor:\n",
        "              mensagem = mensagem + chave\n",
        "    print(mensagem)\n"
      ],
      "execution_count": 10,
      "outputs": []
    },
    {
      "cell_type": "code",
      "metadata": {
        "id": "oRxM8lEGdUop",
        "outputId": "ef117c88-41c2-4bbc-9547-7a21105385c7",
        "colab": {
          "base_uri": "https://localhost:8080/",
          "height": 33
        }
      },
      "source": [
        "decodifica_qr_code(qr)"
      ],
      "execution_count": 11,
      "outputs": [
        {
          "output_type": "stream",
          "text": [
            "eu nao temerei. eu enfrentarei meu medo. permitirei que ele passe atraves de mim. por onde o medo passou, nao havera mais nada. so eu restarei.a\n"
          ],
          "name": "stdout"
        }
      ]
    },
    {
      "cell_type": "markdown",
      "metadata": {
        "id": "WXYLvywDuf0c"
      },
      "source": [
        "# ***Explicando um pouco mais da nossa solulução.***\n",
        "\n",
        "> **Utilização do for**\n",
        "\n",
        "O for é uma maneira muito eficiente de percorer uma lista quando se conhece o seu tamanho e ele é limitado. Através desse método conseguimos criar uma maneira de percorrer a lista tanto verticalmente quando horizontalemente, pois fizemos esse esquema de \"l\" e \"c\", sendo linhas e colunas respectivamente. Um pouco mais abaixo, já no momento de relacionar os dados previamente trabalhados com o dicionário, também utilizamos o for, para percorrer os valores e caso fosse encontrado uma chave, ele nos retornasse esta chave.\n",
        "\n",
        ">**Utilização do if/else**\n",
        "\n",
        "Para ignorarmos a matriz 6x6 contida no canto superior esquerdo da mensagem secreta, utilizamos o método condicional \"if\", para ignorar as colunas e linhas referente a essa matriz e no else, indatamos nossa formula de agrupamento dos pares ordenados. Logo abaixo, quando precisamos relacionar os dados com o dicionário, utilizamos o \"if\" para retornar a chave caso a matriz agrupada seja igual ao valor, como esta dentro de um for, isso foi feito para toda a matriz.\n",
        "\n",
        "\n",
        "\n",
        "\n"
      ]
    }
  ]
}